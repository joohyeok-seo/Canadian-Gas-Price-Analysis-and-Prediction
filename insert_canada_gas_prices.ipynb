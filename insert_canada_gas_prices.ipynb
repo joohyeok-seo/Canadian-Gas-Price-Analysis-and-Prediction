{
 "cells": [
  {
   "cell_type": "markdown",
   "metadata": {},
   "source": [
    "# Insert Data into the Database"
   ]
  },
  {
   "cell_type": "markdown",
   "metadata": {},
   "source": [
    "### Premium Gas"
   ]
  },
  {
   "cell_type": "code",
   "execution_count": 23,
   "metadata": {},
   "outputs": [],
   "source": [
    "# Import necessary libraries for data processing and database connection\n",
    "import pandas as pd\n",
    "from sqlalchemy import create_engine"
   ]
  },
  {
   "cell_type": "code",
   "execution_count": 24,
   "metadata": {},
   "outputs": [],
   "source": [
    "# Read the CSV file\n",
    "file_name = \"premium_gas_prices_canada.csv\"\n",
    "df = pd.read_csv(file_name)"
   ]
  },
  {
   "cell_type": "code",
   "execution_count": 25,
   "metadata": {},
   "outputs": [],
   "source": [
    "# Filter necessary columns: 'GEO', 'REF_DATE', and 'VALUE'\n",
    "# Rename columns to 'region', 'month', and 'price' for better readability\n",
    "df_filtered = df[['GEO', 'REF_DATE', 'VALUE']]\n",
    "df_filtered.columns = ['region', 'month', 'price']"
   ]
  },
  {
   "cell_type": "code",
   "execution_count": null,
   "metadata": {},
   "outputs": [],
   "source": [
    "# Set up database connection information\n",
    "user = 'root'  # MySQL username\n",
    "password = 'L1006s62$'  # MySQL password\n",
    "host = '127.0.0.1'  # Hostname (default: localhost)\n",
    "port = 3306  # MySQL port (default: 3306)\n",
    "database = 'project_db'  # Change to the correct database name"
   ]
  },
  {
   "cell_type": "code",
   "execution_count": 27,
   "metadata": {},
   "outputs": [],
   "source": [
    "# Create an engine for the database connection\n",
    "engine = create_engine(f\"mysql+pymysql://{user}:{password}@{host}:{port}/{database}\")\n"
   ]
  },
  {
   "cell_type": "code",
   "execution_count": 28,
   "metadata": {},
   "outputs": [
    {
     "name": "stdout",
     "output_type": "stream",
     "text": [
      "Data inserted successfully!\n"
     ]
    }
   ],
   "source": [
    "# Insert filtered data into the database table\n",
    "# Use the 'premium_gas_prices_canada' table, and append data without overwriting existing data\n",
    "table_name = 'premium_gas_prices_canada'\n",
    "df_filtered.to_sql(table_name, con=engine, if_exists='append', index=False)\n",
    "print(\"Data inserted successfully!\")"
   ]
  },
  {
   "cell_type": "markdown",
   "metadata": {},
   "source": [
    "### Regular Gas"
   ]
  },
  {
   "cell_type": "code",
   "execution_count": 2,
   "metadata": {},
   "outputs": [],
   "source": [
    "# Import necessary libraries for data processing and database connection\n",
    "import pandas as pd\n",
    "from sqlalchemy import create_engine"
   ]
  },
  {
   "cell_type": "code",
   "execution_count": 3,
   "metadata": {},
   "outputs": [],
   "source": [
    "# Read the CSV file\n",
    "file_name = \"regular_gas_prices_canada.csv\"\n",
    "df = pd.read_csv(file_name)"
   ]
  },
  {
   "cell_type": "code",
   "execution_count": 4,
   "metadata": {},
   "outputs": [],
   "source": [
    "# Filter necessary columns: 'GEO', 'REF_DATE', and 'VALUE'\n",
    "# Rename columns to 'region', 'month', and 'price' for better readability\n",
    "df_filtered = df[['GEO', 'REF_DATE', 'VALUE']]\n",
    "df_filtered.columns = ['region', 'month', 'price']"
   ]
  },
  {
   "cell_type": "code",
   "execution_count": 5,
   "metadata": {},
   "outputs": [],
   "source": [
    "# Set up database connection information\n",
    "user = 'root'  # MySQL username\n",
    "password = 'L1006s62$'  # MySQL password\n",
    "host = '127.0.0.1'  # Hostname (default: localhost)\n",
    "port = 3306  # MySQL port (default: 3306)\n",
    "database = 'project_db'  # Change to the correct database name"
   ]
  },
  {
   "cell_type": "code",
   "execution_count": 6,
   "metadata": {},
   "outputs": [],
   "source": [
    "# Create an engine for the database connection\n",
    "engine = create_engine(f\"mysql+pymysql://{user}:{password}@{host}:{port}/{database}\")"
   ]
  },
  {
   "cell_type": "code",
   "execution_count": null,
   "metadata": {},
   "outputs": [
    {
     "name": "stdout",
     "output_type": "stream",
     "text": [
      "Data inserted successfully!\n"
     ]
    }
   ],
   "source": [
    "# Insert filtered data into the database table\n",
    "# Use the 'regular_gas_prices_canada' table, and append data without overwriting existing data\n",
    "table_name = 'regular_gas_prices_canada'\n",
    "df_filtered.to_sql(table_name, con=engine, if_exists='append', index=False)\n",
    "print(\"Data inserted successfully!\")"
   ]
  },
  {
   "cell_type": "markdown",
   "metadata": {},
   "source": [
    "### Diesel "
   ]
  },
  {
   "cell_type": "code",
   "execution_count": 8,
   "metadata": {},
   "outputs": [],
   "source": [
    "# Import necessary libraries for data processing and database connection\n",
    "import pandas as pd\n",
    "from sqlalchemy import create_engine"
   ]
  },
  {
   "cell_type": "code",
   "execution_count": 9,
   "metadata": {},
   "outputs": [],
   "source": [
    "# Read the CSV file\n",
    "file_name = \"diesel_prices_canada.csv\"\n",
    "df = pd.read_csv(file_name)"
   ]
  },
  {
   "cell_type": "code",
   "execution_count": 10,
   "metadata": {},
   "outputs": [],
   "source": [
    "# Filter necessary columns: 'GEO', 'REF_DATE', and 'VALUE'\n",
    "# Rename columns to 'region', 'month', and 'price' for better readability\n",
    "df_filtered = df[['GEO', 'REF_DATE', 'VALUE']]\n",
    "df_filtered.columns = ['region', 'month', 'price']"
   ]
  },
  {
   "cell_type": "code",
   "execution_count": 11,
   "metadata": {},
   "outputs": [],
   "source": [
    "# Set up database connection information\n",
    "user = 'root'  # MySQL username\n",
    "password = 'L1006s62$'  # MySQL password\n",
    "host = '127.0.0.1'  # Hostname (default: localhost)\n",
    "port = 3306  # MySQL port (default: 3306)\n",
    "database = 'project_db'  # Change to the correct database name"
   ]
  },
  {
   "cell_type": "code",
   "execution_count": 12,
   "metadata": {},
   "outputs": [],
   "source": [
    "# Create an engine for the database connection\n",
    "engine = create_engine(f\"mysql+pymysql://{user}:{password}@{host}:{port}/{database}\")"
   ]
  },
  {
   "cell_type": "code",
   "execution_count": 13,
   "metadata": {},
   "outputs": [
    {
     "name": "stdout",
     "output_type": "stream",
     "text": [
      "Data inserted successfully!\n"
     ]
    }
   ],
   "source": [
    "# Insert filtered data into the database table\n",
    "# Use the 'diesel_prices_canada' table, and append data without overwriting existing data\n",
    "table_name = 'diesel_prices_canada'\n",
    "df_filtered.to_sql(table_name, con=engine, if_exists='append', index=False)\n",
    "print(\"Data inserted successfully!\")"
   ]
  }
 ],
 "metadata": {
  "kernelspec": {
   "display_name": "base",
   "language": "python",
   "name": "python3"
  },
  "language_info": {
   "codemirror_mode": {
    "name": "ipython",
    "version": 3
   },
   "file_extension": ".py",
   "mimetype": "text/x-python",
   "name": "python",
   "nbconvert_exporter": "python",
   "pygments_lexer": "ipython3",
   "version": "3.10.15"
  }
 },
 "nbformat": 4,
 "nbformat_minor": 2
}
