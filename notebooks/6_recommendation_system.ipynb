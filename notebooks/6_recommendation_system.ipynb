{
 "cells": [
  {
   "cell_type": "code",
   "execution_count": 1,
   "metadata": {},
   "outputs": [],
   "source": [
    "import pandas as pd\n",
    "import matplotlib.pyplot as plt\n",
    "import seaborn as sns\n",
    "from sqlalchemy import create_engine"
   ]
  },
  {
   "cell_type": "code",
   "execution_count": null,
   "metadata": {},
   "outputs": [],
   "source": [
    "user = 'root'\n",
    "password = '123'\n",
    "host = '127.0.0.1'\n",
    "port = 3306\n",
    "database = 'project_db'\n",
    "\n",
    "engine = create_engine(f\"mysql+pymysql://{user}:{password}@{host}:{port}/{database}\")"
   ]
  },
  {
   "cell_type": "code",
   "execution_count": 12,
   "metadata": {},
   "outputs": [],
   "source": [
    "# User input (Example: User preferences)\n",
    "user_region = 'Toronto, Ontario'  # Example region\n",
    "user_fuel_type = 'Regular'         # Example fuel type\n",
    "max_price = 165                   # Example max price"
   ]
  },
  {
   "cell_type": "code",
   "execution_count": 13,
   "metadata": {},
   "outputs": [],
   "source": [
    "# Query to filter data based on user input\n",
    "query = f\"\"\"\n",
    "SELECT region, month, price, fuel_type\n",
    "FROM (\n",
    "    SELECT region, month, price, 'Regular' AS fuel_type FROM regular_gas_prices_canada\n",
    "    UNION ALL\n",
    "    SELECT region, month, price, 'Premium' AS fuel_type FROM premium_gas_prices_canada\n",
    "    UNION ALL\n",
    "    SELECT region, month, price, 'Diesel' AS fuel_type FROM diesel_prices_canada\n",
    ") AS combined_data\n",
    "WHERE region = '{user_region}' AND fuel_type = '{user_fuel_type}' AND price <= {max_price};\n",
    "\"\"\""
   ]
  },
  {
   "cell_type": "code",
   "execution_count": 14,
   "metadata": {},
   "outputs": [],
   "source": [
    "# Load data into DataFrame\n",
    "df_filtered = pd.read_sql(query, engine)"
   ]
  },
  {
   "cell_type": "code",
   "execution_count": 15,
   "metadata": {},
   "outputs": [
    {
     "name": "stdout",
     "output_type": "stream",
     "text": [
      "Filtered Data Based on User Preferences:\n",
      "             region    month  price fuel_type\n",
      "0  Toronto, Ontario  2023-10  152.9   Regular\n",
      "1  Toronto, Ontario  2023-11  148.8   Regular\n",
      "2  Toronto, Ontario  2023-12  143.7   Regular\n",
      "3  Toronto, Ontario  2024-01  144.2   Regular\n",
      "4  Toronto, Ontario  2024-02  148.5   Regular\n",
      "5  Toronto, Ontario  2024-03  153.8   Regular\n",
      "6  Toronto, Ontario  2024-06  162.2   Regular\n",
      "7  Toronto, Ontario  2024-08  160.6   Regular\n",
      "8  Toronto, Ontario  2024-09  148.6   Regular\n",
      "9  Toronto, Ontario  2024-10  151.5   Regular\n"
     ]
    }
   ],
   "source": [
    "print(\"Filtered Data Based on User Preferences:\")\n",
    "print(df_filtered)"
   ]
  },
  {
   "cell_type": "code",
   "execution_count": 16,
   "metadata": {},
   "outputs": [
    {
     "name": "stdout",
     "output_type": "stream",
     "text": [
      "\n",
      "Recommended Gas Station:\n",
      "             region    month  price fuel_type\n",
      "2  Toronto, Ontario  2023-12  143.7   Regular\n"
     ]
    }
   ],
   "source": [
    "# Recommend the best option (cheapest price)\n",
    "if not df_filtered.empty:\n",
    "    best_option = df_filtered[df_filtered['price'] == df_filtered['price'].min()]\n",
    "    print(\"\\nRecommended Gas Station:\")\n",
    "    print(best_option)\n",
    "else:\n",
    "    print(\"No options available for the given preferences.\")"
   ]
  }
 ],
 "metadata": {
  "kernelspec": {
   "display_name": "base",
   "language": "python",
   "name": "python3"
  },
  "language_info": {
   "codemirror_mode": {
    "name": "ipython",
    "version": 3
   },
   "file_extension": ".py",
   "mimetype": "text/x-python",
   "name": "python",
   "nbconvert_exporter": "python",
   "pygments_lexer": "ipython3",
   "version": "3.10.15"
  }
 },
 "nbformat": 4,
 "nbformat_minor": 2
}
